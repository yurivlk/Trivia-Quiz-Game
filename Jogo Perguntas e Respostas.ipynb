{
 "cells": [
  {
   "cell_type": "code",
   "execution_count": 42,
   "id": "2d35ec5e",
   "metadata": {
    "ExecuteTime": {
     "end_time": "2022-08-15T15:39:54.428449Z",
     "start_time": "2022-08-15T15:39:54.420741Z"
    }
   },
   "outputs": [],
   "source": [
    "##Create a list to store the questions;\n",
    "##Create a Dic to store the default score;\n",
    "##Create a function to generate randomness for the options and questions;\n",
    "##Indroduction function to display game instructions and set the players nick;\n",
    "## Loop to display the player and questions with input to receive the answer;\n",
    "## Conditional to check if the player answered the question correctly and set the score;\n",
    "## Conditional to check who won the game;\n",
    "## Pop the winner on the screen.\n",
    "\n",
    "\n",
    "## Features to add...\n",
    "## randomness for questions;\n",
    "## import time library to give more time for users read and understand instructions;\n",
    "## Create conditional loop to check if the player input match with options given;\n",
    "## Score system based on the question difficulty;\n",
    "## reset function asking if users want to player one more time."
   ]
  },
  {
   "cell_type": "code",
   "execution_count": null,
   "id": "0d57917e",
   "metadata": {},
   "outputs": [],
   "source": [
    "##defines the set of questions and options which the game will play out through and reset the default score.\n",
    "import random\n",
    "\n",
    "perguntas = [['Which of the following is the capital of Brazil?  ','Brasilia','Sao Paulo','Rio de Janeiro','Bahia'], \n",
    "             ['Name the biggest continet in the world?  ','Asia','Europe','South America','Africa'], \n",
    "             ['How many continents are there in the world?  ','6','7','8','5'],\n",
    "             ['How many states are there in Brazil ?  ','26+DF','27+DF','25+DF','26+DF'],\n",
    "             ['Name the largest mammal in the world ?  ','Blue Whale','Elephant','Mammoth','Hipo']]\n",
    "\n",
    "\n",
    "player_score = {'player_1':'','score_1':0,'player_2':'','score_2':0}"
   ]
  },
  {
   "cell_type": "code",
   "execution_count": 43,
   "id": "f5d5666c",
   "metadata": {
    "ExecuteTime": {
     "end_time": "2022-08-15T15:39:54.890536Z",
     "start_time": "2022-08-15T15:39:54.885198Z"
    }
   },
   "outputs": [],
   "source": [
    "## function to create randomness for the questions options.\n",
    "def random_options():\n",
    "    lst = range(1,5)\n",
    "    return random.sample(lst,4)\n"
   ]
  },
  {
   "cell_type": "code",
   "execution_count": 44,
   "id": "4260d03f",
   "metadata": {
    "ExecuteTime": {
     "end_time": "2022-08-15T15:39:55.411445Z",
     "start_time": "2022-08-15T15:39:55.402288Z"
    }
   },
   "outputs": [],
   "source": [
    "## function to call the game instructions and set the players name.\n",
    "def show_do_bilhao():\n",
    "    ##difine match score as global.\n",
    "    global player_score\n",
    "    ## Check if the player wants to play.\n",
    "    comecar = input(\"It's time!!!!!!, are you ready? BE AWARE THAT YOUR DEEPEST KNOWLEDGE WILL BE TESTED(Y/N)\")\n",
    "    if comecar == 'Yes' or 'Y':\n",
    "        print('The game is quite simple, lets start.')\n",
    "        print('The game has 10 turns where each player has the mission to answer 5 questions correctly! Based in the score system at the end the winner will pop up on the screen' )\n",
    "        print('One more thing, type the answer exactly as the options appear for you.')\n",
    "        player_1  = input('Player_1 Type your Nick:')\n",
    "        player_2 = input('player_2 Type your NIck:')\n",
    "        \n",
    "        ## Loop to store players nick.\n",
    "        for key in player_score:\n",
    "            if key == 'player_1':\n",
    "                player_score['player_1'] = player_1\n",
    "            elif key == 'player_2':\n",
    "                player_score['player_2'] = player_2\n",
    "        print('Everything settled up, lets start...')\n",
    "        \n",
    "        ## Call the Function Questoes to initiate the game.\n",
    "        questoes()\n",
    "        \n",
    "    else:\n",
    "        print('Thats Ok, try next time.')\n",
    "    \n",
    "    return"
   ]
  },
  {
   "cell_type": "code",
   "execution_count": 45,
   "id": "dc5933bd",
   "metadata": {
    "ExecuteTime": {
     "end_time": "2022-08-15T15:39:56.039137Z",
     "start_time": "2022-08-15T15:39:56.019774Z"
    },
    "code_folding": []
   },
   "outputs": [],
   "source": [
    "##Game Loop Function.\n",
    "def questoes():\n",
    "    ## Define counter variable\n",
    "    i = 0\n",
    "    ## Flag True to set player_1 turn.\n",
    "    player_time = True\n",
    "    \n",
    "    ## loop to navigate through the questions list and display it.\n",
    "    for item in perguntas:\n",
    "        if player_time == True:\n",
    "                ##Calling the random function to give randomness for the options available.\n",
    "                alternativas = random_options()\n",
    "                a = alternativas[0]\n",
    "                b = alternativas[1]\n",
    "                c = alternativas[2]\n",
    "                d = alternativas[3]\n",
    "                pergunta_3 = perguntas[i][0]\n",
    "                print(f\"{player_score['player_1']}, {pergunta_3}\")\n",
    "                answer = input(f' A){perguntas[i][a]} B){perguntas[i][b]} C){perguntas[i][c]} D){perguntas[i][d]}  ')\n",
    "                ## Conditional to check the Player's answer and Flag the variable which determine players turn as False.\n",
    "                if answer == perguntas[i][1]:\n",
    "                    player_score['score_1'] += 5\n",
    "                    i+=1\n",
    "                    player_time = False\n",
    "                elif answer != perguntas[i][1]:\n",
    "                    i+=1\n",
    "                    print('erro')\n",
    "                    player_time = False\n",
    "                    \n",
    "        elif player_time == False:\n",
    "                alternativas = random_options()\n",
    "                a = alternativas[0]\n",
    "                b = alternativas[1]\n",
    "                c = alternativas[2]\n",
    "                d = alternativas[3]\n",
    "                pergunta_3 = perguntas[i][0]\n",
    "                print(f\"{player_score['player_2']}, {pergunta_3}\")\n",
    "                answer = input(f' A){perguntas[i][a]} B){perguntas[i][b]} C){perguntas[i][c]} D){perguntas[i][d]}  ')\n",
    "                if answer == perguntas[i][1]:\n",
    "                    player_score['score_2'] += 5\n",
    "                    i+=1\n",
    "                else:\n",
    "                    i+=1\n",
    "                player_time = True\n",
    "    ## Conditional to check who has won the match.            \n",
    "    if player_score['score_1'] > player_score['score_2']:\n",
    "        vencedor = player_score['player_1']\n",
    "        loser = player_score['player_2']\n",
    "        score_w = player_score['score_1']\n",
    "        score_l = player_score['score_2']\n",
    "        winner = print(f'Congratulations {vencedor} you have defeated {loser}, Score: {score_w}:{score_l}')\n",
    "        \n",
    "    elif  player_score['score_1'] < player_score['score_2']:\n",
    "        vencedor = player_score['player_2']\n",
    "        loser = player_score['player_1']\n",
    "        score_w = player_score['score_2']\n",
    "        score_l = player_score['score_1']\n",
    "        winner = print(f'Congratulations {vencedor} you have defeated {loser}, Match Score: {score_w}:{score_l}')\n",
    "    \n",
    "    elif  player_score['score_1'] == player_score['score_2']:\n",
    "        \n",
    "        winner = print(f\"Its a Tie {player_score['player_1']}:{player_score['score_1']} {player_score['player_2']}:{player_score['score_2']}\")\n",
    "    \n",
    "    return winner\n"
   ]
  },
  {
   "cell_type": "code",
   "execution_count": 46,
   "id": "bded3ea5",
   "metadata": {
    "ExecuteTime": {
     "end_time": "2022-08-15T15:40:22.829509Z",
     "start_time": "2022-08-15T15:39:58.102527Z"
    }
   },
   "outputs": [
    {
     "name": "stdout",
     "output_type": "stream",
     "text": [
      "It's time!!!!!!, are you ready? BE AWARE THAT YOUR DEEPEST KNOWLEDGE WILL BE TESTED(Y/N)Y\n",
      "The game is quite simple, lets start.\n",
      "The game has 10 turns where each player has the mission to answer 5 questions correctly! Based in the score system at the end the winner will pop up on the screen\n",
      "One more thing, type the answer exactly as the options appear for you.\n",
      "Player_1 Type your Nick:Bet\n",
      "player_2 Type your NIck:Yuri\n",
      "Everything settled up, lets start...\n",
      "Bet, Which of the following is the capital of Brazil?  \n",
      " A)Bahia B)Rio de Janeiro C)Sao Paulo D)Brasilia  Sao Paulo\n",
      "erro\n",
      "Yuri, Name the biggest continet in the world?  \n",
      " A)Africa B)South America C)Europe D)Asia  Asia\n",
      "Bet, How many continents are there in the world?  \n",
      " A)6 B)7 C)5 D)8  6\n",
      "Yuri, How many states are there in Brazil ?  \n",
      " A)26+DF B)26+DF C)27+DF D)25+DF  26+DF\n",
      "Bet, Name the largest mammal in the world ?  \n",
      " A)Mammoth B)Elephant C)Blue Whale D)Hipo  Blue Whale\n",
      "Its a Tie Bet:10 Yuri:10\n"
     ]
    }
   ],
   "source": [
    "show_do_bilhao()"
   ]
  },
  {
   "cell_type": "code",
   "execution_count": null,
   "id": "a70f5551",
   "metadata": {},
   "outputs": [],
   "source": []
  }
 ],
 "metadata": {
  "kernelspec": {
   "display_name": "Python 3 (ipykernel)",
   "language": "python",
   "name": "python3"
  },
  "language_info": {
   "codemirror_mode": {
    "name": "ipython",
    "version": 3
   },
   "file_extension": ".py",
   "mimetype": "text/x-python",
   "name": "python",
   "nbconvert_exporter": "python",
   "pygments_lexer": "ipython3",
   "version": "3.9.12"
  },
  "varInspector": {
   "cols": {
    "lenName": 16,
    "lenType": 16,
    "lenVar": 40
   },
   "kernels_config": {
    "python": {
     "delete_cmd_postfix": "",
     "delete_cmd_prefix": "del ",
     "library": "var_list.py",
     "varRefreshCmd": "print(var_dic_list())"
    },
    "r": {
     "delete_cmd_postfix": ") ",
     "delete_cmd_prefix": "rm(",
     "library": "var_list.r",
     "varRefreshCmd": "cat(var_dic_list()) "
    }
   },
   "types_to_exclude": [
    "module",
    "function",
    "builtin_function_or_method",
    "instance",
    "_Feature"
   ],
   "window_display": false
  }
 },
 "nbformat": 4,
 "nbformat_minor": 5
}
